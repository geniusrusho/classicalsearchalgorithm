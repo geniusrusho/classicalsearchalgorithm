{
 "cells": [
  {
   "cell_type": "code",
   "execution_count": 1,
   "id": "163eef7b-183b-4c13-920b-c5091a1f341c",
   "metadata": {},
   "outputs": [],
   "source": [
    "from qiskit import *\n",
    "from qiskit.tools.visualization import plot_histogram\n",
    "%matplotlib inline"
   ]
  },
  {
   "cell_type": "code",
   "execution_count": 2,
   "id": "1ad89cd1-61ce-4518-b837-5e07ecadd0ea",
   "metadata": {},
   "outputs": [],
   "source": [
    "my_list = [5,4,6,8,79,20485,543,68,23,5,6]"
   ]
  },
  {
   "cell_type": "code",
   "execution_count": 7,
   "id": "6558573d-fff2-4c65-a885-242f8124acda",
   "metadata": {},
   "outputs": [],
   "source": [
    "def oracle(number):\n",
    "    winningNumber = 8\n",
    "    if number == winningNumber:\n",
    "        response = True\n",
    "    else:\n",
    "        response = False\n",
    "    return response"
   ]
  },
  {
   "cell_type": "code",
   "execution_count": 9,
   "id": "05da15f7-ccd7-4fc0-97f6-abc0a228e155",
   "metadata": {},
   "outputs": [
    {
     "name": "stdout",
     "output_type": "stream",
     "text": [
      "winning number index: 3\n",
      "execution count: 4\n"
     ]
    }
   ],
   "source": [
    "for index, number in enumerate(my_list):\n",
    "    if oracle(number) is True:\n",
    "        print(f\"winning number index: {index}\")\n",
    "        print(f\"execution count: {index+1}\")\n",
    "        break"
   ]
  },
  {
   "cell_type": "code",
   "execution_count": null,
   "id": "ba95b617-7b91-4579-bea0-aff24f5d33c9",
   "metadata": {},
   "outputs": [],
   "source": []
  }
 ],
 "metadata": {
  "kernelspec": {
   "display_name": "Python 3 (ipykernel)",
   "language": "python",
   "name": "python3"
  },
  "language_info": {
   "codemirror_mode": {
    "name": "ipython",
    "version": 3
   },
   "file_extension": ".py",
   "mimetype": "text/x-python",
   "name": "python",
   "nbconvert_exporter": "python",
   "pygments_lexer": "ipython3",
   "version": "3.8.13"
  },
  "widgets": {
   "application/vnd.jupyter.widget-state+json": {
    "state": {},
    "version_major": 2,
    "version_minor": 0
   }
  }
 },
 "nbformat": 4,
 "nbformat_minor": 5
}
